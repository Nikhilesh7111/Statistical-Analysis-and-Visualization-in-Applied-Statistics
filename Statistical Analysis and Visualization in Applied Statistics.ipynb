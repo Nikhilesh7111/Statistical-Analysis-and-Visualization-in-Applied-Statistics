{
 "cells": [
  {
   "cell_type": "markdown",
   "metadata": {},
   "source": [
    "Q1.Implement the counting measure in Python. Test that it satisfies additivity on the disjoint sets\n",
    "{\"a\", \"b\", \"c\"}, {\"d\", \"e\", \"f\"}.\n",
    "\n",
    "sets.asp.\n",
    "Bonus mark if your implementation of the counting measure checks that the input type is correct and\n",
    "raises an error otherwise."
   ]
  },
  {
   "cell_type": "code",
   "execution_count": 1,
   "metadata": {},
   "outputs": [
    {
     "data": {
      "text/plain": [
       "True"
      ]
     },
     "execution_count": 1,
     "metadata": {},
     "output_type": "execute_result"
    }
   ],
   "source": [
    "\n",
    "x = {\"a\", \"b\", \"c\"}\n",
    "y = {\"d\", \"e\", \"f\"}\n",
    "\n",
    "def my_countmeasure(x):\n",
    "    assert type(x) == set , \"input should be set\"\n",
    "    return len(x)\n",
    "def additivity_check(x,y):\n",
    "    u=my_countmeasure(x)+my_countmeasure(y)\n",
    "\n",
    "    z=x.union(y)\n",
    "    return my_countmeasure(z)==u\n",
    "\n",
    "    \n",
    "additivity_check(x,y)\n"
   ]
  },
  {
   "cell_type": "markdown",
   "metadata": {},
   "source": [
    "Q2.Create a Python class which implements intervals. Use this new data type to write a function\n",
    "which implements the length measure on intervals. Test it on the interval [1, 3.5].\n",
    "Bonus mark if your implementation of the length measure checks that the input type is correct and raises\n",
    "an error otherwise.\n"
   ]
  },
  {
   "cell_type": "code",
   "execution_count": 53,
   "metadata": {},
   "outputs": [
    {
     "data": {
      "text/plain": [
       "2.5"
      ]
     },
     "execution_count": 53,
     "metadata": {},
     "output_type": "execute_result"
    }
   ],
   "source": [
    "class interval:\n",
    "    def __init__(self,start,stop):\n",
    "        \n",
    "        if not (type(start) in [int,float] and  type(stop) in [int,float]):\n",
    "            raise Exception(\"input should be float and int\")\n",
    "        elif stop < start:\n",
    "            raise Exception(\"The first interval should be greater number\")\n",
    "\n",
    "\n",
    "        self.start=start\n",
    "        self.stop=stop\n",
    "        \n",
    "\n",
    "\n",
    "i = interval(1,3.5 )\n",
    "i.start\n",
    "\n",
    "def lengthmeasure(interval):   \n",
    "    return( interval.stop-interval.start)\n",
    "lengthmeasure(i)"
   ]
  },
  {
   "cell_type": "markdown",
   "metadata": {},
   "source": [
    "Q3.Import scipy.stats in order to access the scipy.stats.expon distribution. This implements the exponential distribution Exp(λ). Make sure you read the documentation https://docs.scipy.\n",
    "org/doc/scipy/reference/generated/scipy.stats.expon.html to understand how it works and how\n",
    "the parameter λ is encoded. Using the cdf method of scipy.stats.expon define a function called\n",
    "expon_measure which will take as input an interval (defined in the previous question) and will return\n",
    "its probability mass under the probability measure Exp (2) (i.e. λ = 2). Test your function by computing\n",
    "the probability measure of the following intervals:"
   ]
  },
  {
   "cell_type": "code",
   "execution_count": 67,
   "metadata": {},
   "outputs": [],
   "source": [
    "from scipy.stats import expon\n",
    "from scipy.integrate import quad\n",
    "import numpy as np\n",
    "import matplotlib.pyplot as plt"
   ]
  },
  {
   "cell_type": "code",
   "execution_count": 64,
   "metadata": {},
   "outputs": [
    {
     "name": "stdout",
     "output_type": "stream",
     "text": [
      "0.8646647167633873\n",
      "0.0\n",
      "0.13533528117545912\n",
      "1.0\n"
     ]
    }
   ],
   "source": [
    "\n",
    "def expon_measure(interval):\n",
    "    #cdf(interval.stop, loc=0, scale=1/2) - cdf(interval.start,loc=0, scale=1/2)\n",
    "\n",
    "    return  expon.cdf(interval.stop, loc=0, scale=1/2) - expon.cdf(interval.start,loc=0, scale=1/2)\n",
    " \n",
    "intervals = [interval(0,1), interval(1,1),interval(1,10),interval(0, float('inf'))]\n",
    "\n",
    "for x in intervals:\n",
    "\n",
    "    print(expon_measure(x))\n",
    "\n",
    "\n",
    "\n",
    "\n",
    "    \n",
    "\n",
    "    \n",
    "    "
   ]
  },
  {
   "cell_type": "code",
   "execution_count": 66,
   "metadata": {},
   "outputs": [
    {
     "data": {
      "text/plain": [
       "[<matplotlib.lines.Line2D at 0x211ed516110>]"
      ]
     },
     "execution_count": 66,
     "metadata": {},
     "output_type": "execute_result"
    },
    {
     "data": {
      "image/png": "[encoded data removed]",
      "text/plain": [
       "<Figure size 640x480 with 1 Axes>"
      ]
     },
     "metadata": {},
     "output_type": "display_data"
    }
   ],
   "source": [
    "x = np.linspace(0, 10, num=50)\n",
    "y = expon.pdf(x, loc=0, scale=1/2)\n",
    "    \n",
    "plt.plot(x, y)"
   ]
  },
  {
   "cell_type": "markdown",
   "metadata": {},
   "source": [
    "Majority of the area is shown between the interval between o and 1 thats matches the output of 0.8646647167633873 and for second interval 1,1 we get the output of 0 as the area under the curve for a point is zero.For third interval 1,10 we get the output of 0.13533528117545912 as we can see the area under the graph is quite minimal in this region. As we know the probablity of sample space is 1 hence we get 1 as output for interval 0,infinity."
   ]
  },
  {
   "cell_type": "markdown",
   "metadata": {},
   "source": [
    "Q4.Using the pdf method of scipy.stats.expon, define a function called expon_pdf which will\n",
    "take one argument x and return the pdf of the probability measure Exp (2) evaluated at x. Import\n",
    "the integration routine quad from scipy.integrate, and read the documentation https://docs.scipy.\n",
    "org/doc/scipy/reference/generated/scipy.integrate.quad.html to see how it works. Use quad to\n",
    "compute and print the following integrals"
   ]
  },
  {
   "cell_type": "code",
   "execution_count": 70,
   "metadata": {},
   "outputs": [
    {
     "name": "stdout",
     "output_type": "stream",
     "text": [
      "(0.8646647167633872, 9.59970677131702e-15)\n",
      "(0.0, 0.0)\n",
      "(0.13533528117545912, 2.4502060294750603e-09)\n",
      "(1.0, 1.547006336759497e-10)\n"
     ]
    }
   ],
   "source": [
    "def expon_pdf(x):\n",
    "    y = expon.pdf(x, loc=0, scale=1/2)\n",
    "    return y\n",
    "print(quad(expon_pdf,0,1)) \n",
    "    \n",
    "print(quad(expon_pdf,1,1))\n",
    "\n",
    "print(quad(expon_pdf,1,10))\n",
    "\n",
    "print(quad(expon_pdf,0,np.inf))\n",
    "\n",
    " "
   ]
  },
  {
   "cell_type": "markdown",
   "metadata": {},
   "source": [
    "#both of the questions give similar outputs as in Q3 we substracted two cdf's and got area between them and in Q4 we integrated pdf to get area between any two intervals hence we are getting same measures in both of the questions"
   ]
  }
 ],
 "metadata": {
  "kernelspec": {
   "display_name": "base",
   "language": "python",
   "name": "python3"
  },
  "language_info": {
   "codemirror_mode": {
    "name": "ipython",
    "version": 3
   },
   "file_extension": ".py",
   "mimetype": "text/x-python",
   "name": "python",
   "nbconvert_exporter": "python",
   "pygments_lexer": "ipython3",
   "version": "3.11.5"
  }
 },
 "nbformat": 4,
 "nbformat_minor": 2
}
